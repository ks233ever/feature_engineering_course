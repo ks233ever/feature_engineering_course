{
 "cells": [
  {
   "cell_type": "markdown",
   "metadata": {},
   "source": [
    "## Import Libraries"
   ]
  },
  {
   "cell_type": "code",
   "execution_count": null,
   "metadata": {},
   "outputs": [],
   "source": [
    "import pandas as pd\n",
    "import matplotlib.pyplot as plt\n",
    "import datetime\n",
    "import requests\n",
    "import io\n",
    "import csv\n",
    "import numpy as np"
   ]
  },
  {
   "cell_type": "markdown",
   "metadata": {},
   "source": [
    "## Load Dataset"
   ]
  },
  {
   "cell_type": "code",
   "execution_count": null,
   "metadata": {},
   "outputs": [],
   "source": [
    "# Pass in the path to the training set csv file you downloaded\n",
    "\n",
    "df = pd.read_csv('training_set_v1.csv')"
   ]
  },
  {
   "cell_type": "code",
   "execution_count": null,
   "metadata": {},
   "outputs": [],
   "source": [
    "df.shape"
   ]
  },
  {
   "cell_type": "code",
   "execution_count": null,
   "metadata": {},
   "outputs": [],
   "source": [
    "df.head()"
   ]
  },
  {
   "cell_type": "code",
   "execution_count": null,
   "metadata": {},
   "outputs": [],
   "source": [
    "df['CUSTOMER_ID'].nunique()"
   ]
  },
  {
   "cell_type": "code",
   "execution_count": null,
   "metadata": {},
   "outputs": [],
   "source": [
    "df['SUBSCRIBED'].value_counts()"
   ]
  },
  {
   "cell_type": "markdown",
   "metadata": {},
   "source": [
    "## Impute New Features"
   ]
  },
  {
   "cell_type": "code",
   "execution_count": null,
   "metadata": {},
   "outputs": [],
   "source": [
    "datetime.date.today().year"
   ]
  },
  {
   "cell_type": "code",
   "execution_count": null,
   "metadata": {},
   "outputs": [],
   "source": [
    "df['AGE'] = datetime.date.today().year - df['BIRTH_YEAR']"
   ]
  },
  {
   "cell_type": "code",
   "execution_count": null,
   "metadata": {},
   "outputs": [],
   "source": [
    "df.head()"
   ]
  },
  {
   "cell_type": "code",
   "execution_count": null,
   "metadata": {},
   "outputs": [],
   "source": [
    "df['NUM_WEB_PURCHASES'].hist()"
   ]
  },
  {
   "cell_type": "code",
   "execution_count": null,
   "metadata": {},
   "outputs": [],
   "source": [
    "df['NUM_WEB_PURCHASES'].describe()"
   ]
  },
  {
   "cell_type": "code",
   "execution_count": null,
   "metadata": {},
   "outputs": [],
   "source": [
    "def web_purchase_bin(x):\n",
    "    if x < 88:\n",
    "        return 1\n",
    "    elif 88 <= x <= 107:\n",
    "        return 2\n",
    "    elif 108 <= x <= 128:\n",
    "        return 3\n",
    "    elif x >= 129:\n",
    "        return 4"
   ]
  },
  {
   "cell_type": "code",
   "execution_count": null,
   "metadata": {},
   "outputs": [],
   "source": [
    "df['NUM_WEB_PURCHASES_BIN'] = df['NUM_WEB_PURCHASES'].apply(lambda x: web_purchase_bin(x))"
   ]
  },
  {
   "cell_type": "code",
   "execution_count": null,
   "metadata": {},
   "outputs": [],
   "source": [
    "df['NUM_WEB_PURCHASES_BIN'].isnull().sum()"
   ]
  },
  {
   "cell_type": "code",
   "execution_count": null,
   "metadata": {},
   "outputs": [],
   "source": [
    "df.head()"
   ]
  },
  {
   "cell_type": "code",
   "execution_count": null,
   "metadata": {},
   "outputs": [],
   "source": [
    "df['NUM_WEB_PURCHASES_BIN'].hist()"
   ]
  },
  {
   "cell_type": "markdown",
   "metadata": {},
   "source": [
    "## APIs"
   ]
  },
  {
   "cell_type": "code",
   "execution_count": null,
   "metadata": {},
   "outputs": [],
   "source": [
    "df.head()"
   ]
  },
  {
   "cell_type": "code",
   "execution_count": null,
   "metadata": {},
   "outputs": [],
   "source": [
    "! pip install pygeocodio"
   ]
  },
  {
   "cell_type": "code",
   "execution_count": null,
   "metadata": {},
   "outputs": [],
   "source": [
    "from geocodio import GeocodioClient\n",
    "\n",
    "geocodio_api = 'YOUR API KEY'\n",
    "client = GeocodioClient(geocodio_api)"
   ]
  },
  {
   "cell_type": "code",
   "execution_count": null,
   "metadata": {},
   "outputs": [],
   "source": [
    "df['FULL_ADDRESS'] = df['ADDRESS1'] + ' ' + df['CITY'] + ' ' + df['STATE'] + ' ' + df['ZIPCODE'].astype(str)\n",
    "df.dropna(subset=['FULL_ADDRESS'], inplace=True)"
   ]
  },
  {
   "cell_type": "code",
   "execution_count": null,
   "metadata": {},
   "outputs": [],
   "source": [
    "# format for API\n",
    "\n",
    "api_dict = {}\n",
    "\n",
    "for index, row in df.iterrows():\n",
    "    api_dict[str(row['CUSTOMER_ID'])] = row['FULL_ADDRESS']"
   ]
  },
  {
   "cell_type": "code",
   "execution_count": null,
   "metadata": {},
   "outputs": [],
   "source": [
    "len(api_dict)"
   ]
  },
  {
   "cell_type": "code",
   "execution_count": null,
   "metadata": {},
   "outputs": [],
   "source": [
    "api_dict"
   ]
  },
  {
   "cell_type": "code",
   "execution_count": null,
   "metadata": {},
   "outputs": [],
   "source": [
    "geocoded_addresses = client.geocode(api_dict, None, fields=['census2022','acs-demographics', 'acs-social', 'acs-families'])"
   ]
  },
  {
   "cell_type": "code",
   "execution_count": null,
   "metadata": {},
   "outputs": [],
   "source": [
    "geocoded_addresses['63631443']['results'][0]"
   ]
  },
  {
   "cell_type": "code",
   "execution_count": null,
   "metadata": {},
   "outputs": [],
   "source": [
    "def percent_family(customer_id):\n",
    "    # census data doesn't have 100% coverage, return null if missing this field\n",
    "    try:\n",
    "        return geocoded_addresses[customer_id]['results'][0]['fields']['acs']['families']['Household type by household']['Family households']['percentage']\n",
    "    except:\n",
    "        return np.nan"
   ]
  },
  {
   "cell_type": "code",
   "execution_count": null,
   "metadata": {},
   "outputs": [],
   "source": [
    "def percent_female_bachelor(customer_id):\n",
    "    # census data doesn't have 100% coverage, return null if missing this field\n",
    "    try:\n",
    "        return geocoded_addresses[customer_id]['results'][0]['fields']['acs']['social']['Population by minimum level of education'][\"Female: Bachelor's degree\"]['percentage']\n",
    "    except:\n",
    "        return np.nan"
   ]
  },
  {
   "cell_type": "code",
   "execution_count": null,
   "metadata": {},
   "outputs": [],
   "source": [
    "df['PERCENT_FAMILY'] = df['CUSTOMER_ID'].apply(lambda x: percent_family(str(x)))\n",
    "df['PERCENT_FEMALE_BACHELOR'] = df['CUSTOMER_ID'].apply(lambda x: percent_female_bachelor(str(x)))"
   ]
  },
  {
   "cell_type": "code",
   "execution_count": null,
   "metadata": {},
   "outputs": [],
   "source": [
    "# check coverage\n",
    "print((df['PERCENT_FAMILY'].isnull().sum()/df.shape[0]) * 100)\n",
    "print((df['PERCENT_FEMALE_BACHELOR'].isnull().sum()/df.shape[0]) * 100)"
   ]
  },
  {
   "cell_type": "code",
   "execution_count": null,
   "metadata": {},
   "outputs": [],
   "source": [
    "df.head()"
   ]
  },
  {
   "cell_type": "markdown",
   "metadata": {},
   "source": [
    "### Public Alternative"
   ]
  },
  {
   "cell_type": "code",
   "execution_count": null,
   "metadata": {},
   "outputs": [],
   "source": [
    "! pip install urllib3==1.26.15 requests-toolbelt==0.10.1\n",
    "! pip install censusgeocode"
   ]
  },
  {
   "cell_type": "code",
   "execution_count": null,
   "metadata": {},
   "outputs": [],
   "source": [
    "df.head()"
   ]
  },
  {
   "cell_type": "code",
   "execution_count": null,
   "metadata": {},
   "outputs": [],
   "source": [
    "census_df = df[['ADDRESS1', 'CITY', 'STATE', 'ZIPCODE']]"
   ]
  },
  {
   "cell_type": "code",
   "execution_count": null,
   "metadata": {},
   "outputs": [],
   "source": [
    "census_df.head()"
   ]
  },
  {
   "cell_type": "code",
   "execution_count": null,
   "metadata": {},
   "outputs": [],
   "source": [
    "# save as CSV file\n",
    "census_df.to_csv('census_df.csv', header=False)"
   ]
  },
  {
   "cell_type": "code",
   "execution_count": null,
   "metadata": {},
   "outputs": [],
   "source": [
    "import censusgeocode\n",
    "\n",
    "cg = censusgeocode.CensusGeocode(benchmark='Public_AR_Current',vintage='Current_Current')\n",
    "k = cg.addressbatch('census_df.csv')\n",
    "\n",
    "# Bonus\n",
    "# Get clean output in Dataframe\n",
    "\n",
    "df_output = pd.DataFrame(k, columns=k[0].keys())"
   ]
  },
  {
   "cell_type": "code",
   "execution_count": null,
   "metadata": {},
   "outputs": [],
   "source": [
    "df_output.head()"
   ]
  },
  {
   "cell_type": "code",
   "execution_count": null,
   "metadata": {},
   "outputs": [],
   "source": [
    "df_output['match'].value_counts()"
   ]
  },
  {
   "cell_type": "code",
   "execution_count": null,
   "metadata": {},
   "outputs": [],
   "source": [
    "! pip install census"
   ]
  },
  {
   "cell_type": "code",
   "execution_count": null,
   "metadata": {},
   "outputs": [],
   "source": [
    "from census import Census\n",
    "\n",
    "api_key = 'YOUR US CENSUS API KEY'\n",
    "c = Census(api_key)\n",
    "# https://api.census.gov/data/2022/acs/acs1/variables.html\n",
    "# percent family household = 'B11016_002E'/ 'B11016_001E'\n",
    "\n",
    "variable_to_extract = \"B11016_002E,B11016_001E\"\n",
    "\n",
    "resp = c.acs5.get(fields=('NAME', variable_to_extract),\n",
    "           geo={'for': 'zip code tabulation area:*'}, \n",
    "           year=2021)"
   ]
  },
  {
   "cell_type": "code",
   "execution_count": null,
   "metadata": {},
   "outputs": [],
   "source": [
    "resp"
   ]
  },
  {
   "cell_type": "code",
   "execution_count": null,
   "metadata": {},
   "outputs": [],
   "source": [
    "# create zipcode: percent_family lookup dictionary\n",
    "\n",
    "cleaned_dict = {}\n",
    "\n",
    "for dictionary in resp:\n",
    "    zipcode = dictionary['zip code tabulation area']\n",
    "    total_households = dictionary[\"B11016_001E\"]\n",
    "    family_households = dictionary[\"B11016_002E\"]\n",
    "    if total_households != 0:\n",
    "        percent_family = family_households/total_households\n",
    "        cleaned_dict[zipcode] = percent_family \n",
    "    else:\n",
    "        cleaned_dict[zipcode] = np.nan \n",
    "    "
   ]
  },
  {
   "cell_type": "code",
   "execution_count": null,
   "metadata": {},
   "outputs": [],
   "source": [
    "cleaned_dict"
   ]
  },
  {
   "cell_type": "code",
   "execution_count": null,
   "metadata": {},
   "outputs": [],
   "source": [
    "df['ZIPCODE'] = df['ZIPCODE'].astype(str)\n",
    "df['ZIPCODE'] = df['ZIPCODE'].apply(lambda x: '0'+x if len(x)==4 else x)\n",
    "df['PERCENT_FAMILY_USCENSUS'] = df['ZIPCODE'].apply(lambda x: cleaned_dict[x])"
   ]
  },
  {
   "cell_type": "code",
   "execution_count": null,
   "metadata": {},
   "outputs": [],
   "source": [
    "df.head()"
   ]
  },
  {
   "cell_type": "markdown",
   "metadata": {},
   "source": [
    "## Correlation?"
   ]
  },
  {
   "cell_type": "code",
   "execution_count": null,
   "metadata": {},
   "outputs": [],
   "source": [
    "def gen_corr_grid(df, depvar):\n",
    "    corr_dict = {\n",
    "            'variable': [],\n",
    "            'corr': []\n",
    "        }\n",
    "    for col in list(df.columns):\n",
    "        if df[col].dtype not in ['object', '<M8[ns]'] and col != depvar :\n",
    "            r = df[depvar].corr(df[col])   \n",
    "            corr_dict['variable'].append(col)\n",
    "            corr_dict['corr'].append(r)\n",
    "    return pd.DataFrame(corr_dict).sort_values(by=['corr'], ascending=False)\n",
    "\n",
    "\n",
    "df_corrs = gen_corr_grid(df[['CD_GENDER', 'CD_CREDIT_RATING', 'HD_INCOME_BAND_SK',\\\n",
    "                             'AVG_DOLLAR_ITEM', 'WEB_RETURN_RATE', 'AGE', 'NUM_WEB_PURCHASES_BIN',\\\n",
    "                             'PERCENT_FAMILY', 'PERCENT_FEMALE_BACHELOR', 'PERCENT_FAMILY_USCENSUS', 'SUBSCRIBED']],\n",
    "                         'SUBSCRIBED')\n",
    "df_corrs.head(20)"
   ]
  },
  {
   "cell_type": "code",
   "execution_count": null,
   "metadata": {},
   "outputs": [],
   "source": []
  },
  {
   "cell_type": "code",
   "execution_count": null,
   "metadata": {},
   "outputs": [],
   "source": []
  }
 ],
 "metadata": {
  "kernelspec": {
   "display_name": "Python 3",
   "language": "python",
   "name": "python3"
  },
  "language_info": {
   "codemirror_mode": {
    "name": "ipython",
    "version": 3
   },
   "file_extension": ".py",
   "mimetype": "text/x-python",
   "name": "python",
   "nbconvert_exporter": "python",
   "pygments_lexer": "ipython3",
   "version": "3.7.6"
  }
 },
 "nbformat": 4,
 "nbformat_minor": 4
}
